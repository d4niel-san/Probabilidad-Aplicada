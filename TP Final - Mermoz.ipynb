{
 "cells": [
  {
   "cell_type": "markdown",
   "metadata": {},
   "source": [
    "# **Trabajo Practico Final - Probabilidad Aplicada**\n",
    "![Imagen](http://www.inspt.utn.edu.ar/images/aragna_.png)\n",
    "### Profesora: ***Chan, Debora***\n",
    "### Alumno: ***Mermoz, Daniel Alberto***\n",
    "\n",
    "*En el presente cuaderno se realizara un analisis sobre la poblacion de alumnos de 1er año del Instituto Nacional Superior del Profesorado Tecnico (INSPT) correspondiente al 2018*"
   ]
  },
  {
   "cell_type": "markdown",
   "metadata": {},
   "source": [
    "#### Carga de librerias"
   ]
  },
  {
   "cell_type": "code",
   "execution_count": 69,
   "metadata": {},
   "outputs": [],
   "source": [
    "import numpy as np\n",
    "import pandas as pd\n",
    "from scipy import stats # importando scipy.stats\n",
    "import matplotlib.pyplot as plt\n",
    "import seaborn as sns\n",
    "\n",
    "plt.rcParams['axes.facecolor'] = 'white'\n",
    "plt.rcParams['figure.facecolor'] = 'white'"
   ]
  },
  {
   "cell_type": "markdown",
   "metadata": {},
   "source": [
    "## ------------------------------------------------"
   ]
  },
  {
   "cell_type": "markdown",
   "metadata": {},
   "source": [
    "#### Carga la base de Datos \n"
   ]
  },
  {
   "cell_type": "code",
   "execution_count": 70,
   "metadata": {},
   "outputs": [
    {
     "name": "stdout",
     "output_type": "stream",
     "text": [
      "\n",
      "Hay un total de  105  datos en  20  columnas cargados correctamente\n"
     ]
    }
   ],
   "source": [
    "df= pd.read_excel('Relevamiento Alumnos 2018.xlsx')\n",
    "rows = len(df)\n",
    "columns = df.columns.size\n",
    "print('\\nHay un total de ',rows,' datos en ',columns,' columnas cargados correctamente')"
   ]
  },
  {
   "cell_type": "markdown",
   "metadata": {},
   "source": [
    "## ------------------------------------------------"
   ]
  },
  {
   "cell_type": "markdown",
   "metadata": {},
   "source": [
    "#### A la hora de mostrar la dataframe se puede utilizar alguno de los siguientes codigos\n",
    "<pre>\n",
    "df:         para toda la DataFrame\n",
    "dfhead(5):  para las primeras 5 filas\n",
    "de.loc:     para seleccionar que filas y columnas quiero mostrar </pre>\n",
    "##### (Por una cuestion de visualizacion se opto por esta ultima)\n"
   ]
  },
  {
   "cell_type": "code",
   "execution_count": 71,
   "metadata": {},
   "outputs": [
    {
     "name": "stdout",
     "output_type": "stream",
     "text": [
      "\n",
      "Filtrado parcial para mostrar la DataFrame\n"
     ]
    },
    {
     "data": {
      "text/html": [
       "<div>\n",
       "<style scoped>\n",
       "    .dataframe tbody tr th:only-of-type {\n",
       "        vertical-align: middle;\n",
       "    }\n",
       "\n",
       "    .dataframe tbody tr th {\n",
       "        vertical-align: top;\n",
       "    }\n",
       "\n",
       "    .dataframe thead th {\n",
       "        text-align: right;\n",
       "    }\n",
       "</style>\n",
       "<table border=\"1\" class=\"dataframe\">\n",
       "  <thead>\n",
       "    <tr style=\"text-align: right;\">\n",
       "      <th></th>\n",
       "      <th>Comision</th>\n",
       "      <th>Edad</th>\n",
       "      <th>Genero</th>\n",
       "      <th>Promedio final del secundario</th>\n",
       "      <th>Lugar de residencia</th>\n",
       "      <th>¿Trabajas actualmente?</th>\n",
       "    </tr>\n",
       "  </thead>\n",
       "  <tbody>\n",
       "    <tr>\n",
       "      <th>0</th>\n",
       "      <td>1-604 TN</td>\n",
       "      <td>26</td>\n",
       "      <td>Femenino</td>\n",
       "      <td>7.81</td>\n",
       "      <td>CABA</td>\n",
       "      <td>Si</td>\n",
       "    </tr>\n",
       "    <tr>\n",
       "      <th>1</th>\n",
       "      <td>1-604 TN</td>\n",
       "      <td>28</td>\n",
       "      <td>Femenino</td>\n",
       "      <td>6.65</td>\n",
       "      <td>Provincia de Buenos Aires</td>\n",
       "      <td>Si</td>\n",
       "    </tr>\n",
       "    <tr>\n",
       "      <th>2</th>\n",
       "      <td>1-604 TN</td>\n",
       "      <td>39</td>\n",
       "      <td>Masculino</td>\n",
       "      <td>7.63</td>\n",
       "      <td>Provincia de Buenos Aires</td>\n",
       "      <td>Si</td>\n",
       "    </tr>\n",
       "    <tr>\n",
       "      <th>3</th>\n",
       "      <td>1-601 TM</td>\n",
       "      <td>36</td>\n",
       "      <td>Masculino</td>\n",
       "      <td>8.41</td>\n",
       "      <td>CABA</td>\n",
       "      <td>No</td>\n",
       "    </tr>\n",
       "    <tr>\n",
       "      <th>4</th>\n",
       "      <td>1-604 TT</td>\n",
       "      <td>23</td>\n",
       "      <td>Femenino</td>\n",
       "      <td>9.53</td>\n",
       "      <td>CABA</td>\n",
       "      <td>Si</td>\n",
       "    </tr>\n",
       "  </tbody>\n",
       "</table>\n",
       "</div>"
      ],
      "text/plain": [
       "   Comision  Edad     Genero  Promedio final del secundario  \\\n",
       "0  1-604 TN    26   Femenino                           7.81   \n",
       "1  1-604 TN    28   Femenino                           6.65   \n",
       "2  1-604 TN    39  Masculino                           7.63   \n",
       "3  1-601 TM    36  Masculino                           8.41   \n",
       "4  1-604 TT    23   Femenino                           9.53   \n",
       "\n",
       "         Lugar de residencia ¿Trabajas actualmente?  \n",
       "0                       CABA                     Si  \n",
       "1  Provincia de Buenos Aires                     Si  \n",
       "2  Provincia de Buenos Aires                     Si  \n",
       "3                       CABA                     No  \n",
       "4                       CABA                     Si  "
      ]
     },
     "execution_count": 71,
     "metadata": {},
     "output_type": "execute_result"
    }
   ],
   "source": [
    "print(\"\\nFiltrado parcial para mostrar la DataFrame\")\n",
    "df.loc[[0,1,2,3,4],[\"Comision\",\"Edad\",\"Genero\",\"Promedio final del secundario\",\"Lugar de residencia\", \"¿Trabajas actualmente?\"]]"
   ]
  },
  {
   "cell_type": "markdown",
   "metadata": {},
   "source": [
    "## ------------------------------------------------"
   ]
  },
  {
   "cell_type": "markdown",
   "metadata": {},
   "source": [
    "#### Mediante el comando `df.describe()` recibo algunos datos relevantes sobre la DataFrame\n",
    "<pre>\n",
    "#mean:      Media\n",
    "#std:       Desviacion Estandar\n",
    "#min:       Mínimo\n",
    "#25,50,75   Percentil\n",
    "#max:       Máximo\n",
    "</pre>"
   ]
  },
  {
   "cell_type": "code",
   "execution_count": 72,
   "metadata": {},
   "outputs": [
    {
     "data": {
      "text/html": [
       "<div>\n",
       "<style scoped>\n",
       "    .dataframe tbody tr th:only-of-type {\n",
       "        vertical-align: middle;\n",
       "    }\n",
       "\n",
       "    .dataframe tbody tr th {\n",
       "        vertical-align: top;\n",
       "    }\n",
       "\n",
       "    .dataframe thead th {\n",
       "        text-align: right;\n",
       "    }\n",
       "</style>\n",
       "<table border=\"1\" class=\"dataframe\">\n",
       "  <thead>\n",
       "    <tr style=\"text-align: right;\">\n",
       "      <th></th>\n",
       "      <th>Edad</th>\n",
       "      <th>Altura</th>\n",
       "      <th>Promedio final del secundario</th>\n",
       "      <th>Año de egreso de la escuela secundaria</th>\n",
       "    </tr>\n",
       "  </thead>\n",
       "  <tbody>\n",
       "    <tr>\n",
       "      <th>count</th>\n",
       "      <td>105.000000</td>\n",
       "      <td>105.000000</td>\n",
       "      <td>105.000000</td>\n",
       "      <td>105.000000</td>\n",
       "    </tr>\n",
       "    <tr>\n",
       "      <th>mean</th>\n",
       "      <td>26.742857</td>\n",
       "      <td>1.727524</td>\n",
       "      <td>8.066762</td>\n",
       "      <td>2009.019048</td>\n",
       "    </tr>\n",
       "    <tr>\n",
       "      <th>std</th>\n",
       "      <td>6.836031</td>\n",
       "      <td>0.123076</td>\n",
       "      <td>1.178618</td>\n",
       "      <td>6.076406</td>\n",
       "    </tr>\n",
       "    <tr>\n",
       "      <th>min</th>\n",
       "      <td>18.000000</td>\n",
       "      <td>1.510000</td>\n",
       "      <td>6.050000</td>\n",
       "      <td>1996.000000</td>\n",
       "    </tr>\n",
       "    <tr>\n",
       "      <th>25%</th>\n",
       "      <td>22.000000</td>\n",
       "      <td>1.640000</td>\n",
       "      <td>7.120000</td>\n",
       "      <td>2005.000000</td>\n",
       "    </tr>\n",
       "    <tr>\n",
       "      <th>50%</th>\n",
       "      <td>25.000000</td>\n",
       "      <td>1.740000</td>\n",
       "      <td>8.000000</td>\n",
       "      <td>2011.000000</td>\n",
       "    </tr>\n",
       "    <tr>\n",
       "      <th>75%</th>\n",
       "      <td>30.000000</td>\n",
       "      <td>1.790000</td>\n",
       "      <td>9.010000</td>\n",
       "      <td>2014.000000</td>\n",
       "    </tr>\n",
       "    <tr>\n",
       "      <th>max</th>\n",
       "      <td>64.000000</td>\n",
       "      <td>1.980000</td>\n",
       "      <td>9.950000</td>\n",
       "      <td>2017.000000</td>\n",
       "    </tr>\n",
       "  </tbody>\n",
       "</table>\n",
       "</div>"
      ],
      "text/plain": [
       "             Edad      Altura  Promedio final del secundario  \\\n",
       "count  105.000000  105.000000                     105.000000   \n",
       "mean    26.742857    1.727524                       8.066762   \n",
       "std      6.836031    0.123076                       1.178618   \n",
       "min     18.000000    1.510000                       6.050000   \n",
       "25%     22.000000    1.640000                       7.120000   \n",
       "50%     25.000000    1.740000                       8.000000   \n",
       "75%     30.000000    1.790000                       9.010000   \n",
       "max     64.000000    1.980000                       9.950000   \n",
       "\n",
       "       Año de egreso de la escuela secundaria  \n",
       "count                              105.000000  \n",
       "mean                              2009.019048  \n",
       "std                                  6.076406  \n",
       "min                               1996.000000  \n",
       "25%                               2005.000000  \n",
       "50%                               2011.000000  \n",
       "75%                               2014.000000  \n",
       "max                               2017.000000  "
      ]
     },
     "execution_count": 72,
     "metadata": {},
     "output_type": "execute_result"
    }
   ],
   "source": [
    "df.describe()"
   ]
  },
  {
   "cell_type": "markdown",
   "metadata": {},
   "source": [
    "## ------------------------------------------------"
   ]
  },
  {
   "cell_type": "markdown",
   "metadata": {},
   "source": [
    "#### Filtrado de DataFrame\n",
    "\n",
    "La funcion `dropna` nos elimina los registros sin algun dato (una vez realizado en la DF actual, pasan a ser 92)</p>\n",
    "Otra opcion es usar la funcion `fillna` la cual nos reemplaza los datos vacios en el registro con un dato especificado (en este caso reemplazo el N/A de la columna por un \"no especificado\")\n"
   ]
  },
  {
   "cell_type": "code",
   "execution_count": 73,
   "metadata": {},
   "outputs": [
    {
     "name": "stdout",
     "output_type": "stream",
     "text": [
      "\n",
      "Hay un total de  105  datos en  20  columnas en el dataframe filtrado\n"
     ]
    }
   ],
   "source": [
    "df_filtrado = df.fillna({\"¿Qué te motivó a inscribiste en esta carrera?\": \"No especificado\"})\n",
    "rowsfil = len(df_filtrado)\n",
    "columnsfil = df_filtrado.columns.size\n",
    "print('\\nHay un total de ',rowsfil,' datos en ',columnsfil,' columnas en el dataframe filtrado')\n",
    "df = df_filtrado"
   ]
  },
  {
   "cell_type": "markdown",
   "metadata": {},
   "source": [
    "## ------------------------------------------------"
   ]
  },
  {
   "cell_type": "markdown",
   "metadata": {},
   "source": [
    "#### Analisis de cantidad de alumnos de promedio \"alto\""
   ]
  },
  {
   "cell_type": "code",
   "execution_count": 74,
   "metadata": {},
   "outputs": [
    {
     "data": {
      "text/html": [
       "<div>\n",
       "<style scoped>\n",
       "    .dataframe tbody tr th:only-of-type {\n",
       "        vertical-align: middle;\n",
       "    }\n",
       "\n",
       "    .dataframe tbody tr th {\n",
       "        vertical-align: top;\n",
       "    }\n",
       "\n",
       "    .dataframe thead th {\n",
       "        text-align: right;\n",
       "    }\n",
       "</style>\n",
       "<table border=\"1\" class=\"dataframe\">\n",
       "  <thead>\n",
       "    <tr style=\"text-align: right;\">\n",
       "      <th></th>\n",
       "      <th>Comision</th>\n",
       "      <th>Edad</th>\n",
       "      <th>Genero</th>\n",
       "      <th>Promedio final del secundario</th>\n",
       "      <th>Lugar de residencia</th>\n",
       "      <th>¿Trabajas actualmente?</th>\n",
       "    </tr>\n",
       "  </thead>\n",
       "  <tbody>\n",
       "  </tbody>\n",
       "</table>\n",
       "</div>"
      ],
      "text/plain": [
       "Empty DataFrame\n",
       "Columns: [Comision, Edad, Genero, Promedio final del secundario, Lugar de residencia, ¿Trabajas actualmente?]\n",
       "Index: []"
      ]
     },
     "execution_count": 74,
     "metadata": {},
     "output_type": "execute_result"
    }
   ],
   "source": [
    "df[df[\"Promedio final del secundario\"]>=8].loc[[],[\"Comision\",\"Edad\",\"Genero\",\"Promedio final del secundario\",\"Lugar de residencia\", \"¿Trabajas actualmente?\"]]"
   ]
  },
  {
   "cell_type": "markdown",
   "metadata": {},
   "source": [
    "## ------------------------------------------------"
   ]
  },
  {
   "cell_type": "markdown",
   "metadata": {},
   "source": [
    "#### Se realizara un analisis de acuerdo al genero de los estudiantes\n",
    "En el mismo se verá en un grafico de \"torta\" el porcentaje de alumnos de cada sexo sobre el total de 105 alumnos"
   ]
  },
  {
   "cell_type": "code",
   "execution_count": 75,
   "metadata": {},
   "outputs": [
    {
     "name": "stdout",
     "output_type": "stream",
     "text": [
      "Cantidad de Hombres:  82 \tPorcentaje:  78.1\n",
      "Cantidad de Mujeres:  23 \tPorcentaje:  21.9\n"
     ]
    }
   ],
   "source": [
    "cantM = len(df[df.Genero == 'Masculino'])\n",
    "cantF = len(df[df.Genero == 'Femenino'])\n",
    "porcM = round(cantM/rows*100,2)\n",
    "porcF = round(cantF/rows*100,2)\n",
    "print('Cantidad de Hombres: ',cantM,'\\tPorcentaje: ',porcM)\n",
    "print('Cantidad de Mujeres: ',cantF,'\\tPorcentaje: ',porcF)"
   ]
  },
  {
   "cell_type": "code",
   "execution_count": 80,
   "metadata": {},
   "outputs": [
    {
     "data": {
      "image/png": "[encoded data removed]",
      "text/plain": [
       "<Figure size 720x360 with 1 Axes>"
      ]
     },
     "metadata": {},
     "output_type": "display_data"
    }
   ],
   "source": [
    "\n",
    "genero = 'Hombres', 'Mujeres'\n",
    "#Declaramos el tamaño de cada 'rebanada' y en sumatoria todos deben dar al 100%\n",
    "porcM = round(cantM/rows*100,2)\n",
    "porcF = round(cantF/rows*100,2)\n",
    "sizes = [porcM, porcF]\n",
    "#En este punto señalamos que posicion debe 'resaltarse' y el valor, si se coloca 0, se omite\n",
    "explode = (0.1, 0)  \n",
    " \n",
    "fig1, ax1 = plt.subplots()\n",
    "#Creamos el grafico, añadiendo los valores\n",
    "ax1.pie(sizes, explode=explode, labels=genero, autopct='%2.1f%%',\n",
    "        shadow=True, startangle=90)\n",
    "#señalamos la forma, en este caso 'equal' es para dar forma circular\n",
    "ax1.axis('equal')\n",
    "sns.set(rc={'figure.figsize':(1,5)})\n",
    "plt.title(\"Porcentaje de alumnos por genero\")\n",
    "plt.legend()\n",
    "plt.savefig('grafica_pastel.png')\n",
    "plt.show()"
   ]
  },
  {
   "cell_type": "markdown",
   "metadata": {},
   "source": [
    "## ------------------------------------------------"
   ]
  },
  {
   "cell_type": "markdown",
   "metadata": {},
   "source": [
    "#### Se analizara la altura de los estudiantes mediante un grafico de barras"
   ]
  },
  {
   "cell_type": "code",
   "execution_count": 77,
   "metadata": {},
   "outputs": [
    {
     "data": {
      "text/plain": [
       "Text(0.5, 1.0, 'Altura de los alumnos masculinos')"
      ]
     },
     "execution_count": 77,
     "metadata": {},
     "output_type": "execute_result"
    },
    {
     "data": {
      "image/png": "[encoded data removed]",
      "text/plain": [
       "<Figure size 1440x720 with 1 Axes>"
      ]
     },
     "metadata": {},
     "output_type": "display_data"
    }
   ],
   "source": [
    "dfGH = df[[\"Genero\",\"Altura\"]]\n",
    "dfGH = dfGH[dfGH[\"Genero\"].str.contains(\"Masculino\")]\n",
    "Genero = dfGH.Genero\n",
    "Altura = dfGH.Altura\n",
    "\n",
    "sns.set(rc={'figure.figsize':(20,10)})\n",
    "sns.countplot(x=Altura)\n",
    "plt.title(\"Altura de los alumnos masculinos\")"
   ]
  },
  {
   "cell_type": "code",
   "execution_count": 78,
   "metadata": {},
   "outputs": [
    {
     "data": {
      "text/plain": [
       "Text(0.5, 1.0, 'Altura de los alumnas Femeninas')"
      ]
     },
     "execution_count": 78,
     "metadata": {},
     "output_type": "execute_result"
    },
    {
     "data": {
      "image/png": "[encoded data removed]",
      "text/plain": [
       "<Figure size 1440x720 with 1 Axes>"
      ]
     },
     "metadata": {},
     "output_type": "display_data"
    }
   ],
   "source": [
    "dfGH = df[[\"Genero\",\"Altura\"]]\n",
    "dfGH = dfGH[dfGH[\"Genero\"].str.contains(\"Femenino\")]\n",
    "Genero = dfGH.Genero\n",
    "Altura = dfGH.Altura\n",
    "\n",
    "sns.set(rc={'figure.figsize':(20,10)})\n",
    "sns.countplot(x=Altura)\n",
    "plt.title(\"Altura de los alumnas Femeninas\")"
   ]
  }
 ],
 "metadata": {
  "kernelspec": {
   "display_name": "Python 3",
   "language": "python",
   "name": "python3"
  },
  "language_info": {
   "codemirror_mode": {
    "name": "ipython",
    "version": 3
   },
   "file_extension": ".py",
   "mimetype": "text/x-python",
   "name": "python",
   "nbconvert_exporter": "python",
   "pygments_lexer": "ipython3",
   "version": "3.9.7"
  }
 },
 "nbformat": 4,
 "nbformat_minor": 4
}
