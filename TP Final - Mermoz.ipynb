{
 "cells": [
  {
   "cell_type": "markdown",
   "metadata": {},
   "source": [
    "# Trabajo Practico Final - Probabilidad Aplicada\n",
    "### Profesora: Chan, Debora \n",
    "### Alumno: Mermoz, Daniel Alberto"
   ]
  },
  {
   "cell_type": "code",
   "execution_count": 1,
   "metadata": {},
   "outputs": [],
   "source": [
    "#Carga de librerias\n",
    "import numpy as np\n",
    "import pandas as pd\n",
    "from scipy import stats # importando scipy.stats\n",
    "import matplotlib.pyplot as plt\n",
    "import seaborn as sns\n"
   ]
  },
  {
   "cell_type": "code",
   "execution_count": 2,
   "metadata": {},
   "outputs": [
    {
     "name": "stdout",
     "output_type": "stream",
     "text": [
      "\n",
      "Hay un total de  105  datos en  23  columnas cargados correctamente\n"
     ]
    }
   ],
   "source": [
    "#Carga la base de Datos \n",
    "df= pd.read_excel('D:\\\\Relevamiento Alumnos 2018.xlsx')\n",
    "#df= pd.read_excel('https://bit.ly/FinalMermozCSV')\n",
    "rows = len(df)\n",
    "columns = df.columns.size#len(df[0])-1\n",
    "print('\\nHay un total de ',rows,' datos en ',columns,' columnas cargados correctamente')\n",
    "\n"
   ]
  },
  {
   "cell_type": "code",
   "execution_count": 3,
   "metadata": {},
   "outputs": [
    {
     "name": "stdout",
     "output_type": "stream",
     "text": [
      "Cantidad de Hombres:  82 \tPorcentaje:  78.1\n",
      "Cantidad de Mujeres:  23 \tPorcentaje:  21.9\n"
     ]
    }
   ],
   "source": [
    "\n",
    "cantM = len(df[df.GeneroCAT == 'Masculino'])\n",
    "cantF = len(df[df.GeneroCAT == 'Femenino'])\n",
    "porcM = round(cantM/rows*100,2)\n",
    "porcF = round(cantF/rows*100,2)\n",
    "print('Cantidad de Hombres: ',cantM,'\\tPorcentaje: ',porcM)\n",
    "print('Cantidad de Mujeres: ',cantF,'\\tPorcentaje: ',porcF)"
   ]
  },
  {
   "cell_type": "code",
   "execution_count": 4,
   "metadata": {},
   "outputs": [
    {
     "data": {
      "image/png": "[encoded data removed]",
      "text/plain": [
       "<Figure size 432x288 with 1 Axes>"
      ]
     },
     "metadata": {},
     "output_type": "display_data"
    }
   ],
   "source": [
    "genero = 'Hombres', 'Mujeres'\n",
    "#Declaramos el tamaño de cada 'rebanada' y en sumatoria todos deben dar al 100%\n",
    "porcM = round(cantM/rows*100,2)\n",
    "porcF = round(cantF/rows*100,2)\n",
    "sizes = [porcM, porcF]\n",
    "#En este punto señalamos que posicion debe 'resaltarse' y el valor, si se coloca 0, se omite\n",
    "explode = (0.1, 0)  \n",
    " \n",
    "fig1, ax1 = plt.subplots()\n",
    "#Creamos el grafico, añadiendo los valores\n",
    "ax1.pie(sizes, explode=explode, labels=genero, autopct='%1.1f%%',\n",
    "        shadow=True, startangle=90)\n",
    "#señalamos la forma, en este caso 'equal' es para dar forma circular\n",
    "ax1.axis('equal')\n",
    "plt.title(\"Genero\")\n",
    "plt.legend()\n",
    "plt.savefig('grafica_pastel.png')\n",
    "plt.show()"
   ]
  },
  {
   "cell_type": "code",
   "execution_count": null,
   "metadata": {},
   "outputs": [],
   "source": []
  }
 ],
 "metadata": {
  "kernelspec": {
   "display_name": "Python 3",
   "language": "python",
   "name": "python3"
  },
  "language_info": {
   "codemirror_mode": {
    "name": "ipython",
    "version": 3
   },
   "file_extension": ".py",
   "mimetype": "text/x-python",
   "name": "python",
   "nbconvert_exporter": "python",
   "pygments_lexer": "ipython3",
   "version": "3.9.7"
  }
 },
 "nbformat": 4,
 "nbformat_minor": 4
}
