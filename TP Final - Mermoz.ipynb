{
 "cells": [
  {
   "cell_type": "markdown",
   "metadata": {},
   "source": [
    "# **Trabajo Practico Final - Probabilidad Aplicada**\n",
    "![Imagen](http://www.inspt.utn.edu.ar/images/aragna_.png)\n",
    "### Profesora: ***Chan, Debora***\n",
    "### Alumno: ***Mermoz, Daniel Alberto***\n",
    "### Fecha: 16/12/2021\n",
    "\n",
    "*En el presente cuaderno se realizara un analisis sobre la poblacion de alumnos de 1er año del Instituto Nacional Superior del Profesorado Tecnico (INSPT) correspondiente al 2018*"
   ]
  },
  {
   "cell_type": "markdown",
   "metadata": {},
   "source": [
    "#### Carga de librerias"
   ]
  },
  {
   "cell_type": "code",
   "execution_count": 2,
   "metadata": {},
   "outputs": [],
   "source": [
    "import pandas as pd\n",
    "import numpy as np\n",
    "import plotly.express as px\n",
    "import matplotlib.pyplot as plt\n",
    "import seaborn as sns\n",
    "import warnings\n",
    "from matplotlib.pyplot import figure\n",
    "warnings.simplefilter(action='ignore', category=FutureWarning)\n",
    "\n",
    "plt.rcParams['axes.facecolor'] = 'white'\n",
    "plt.rcParams['figure.facecolor'] = 'white'"
   ]
  },
  {
   "cell_type": "markdown",
   "metadata": {},
   "source": [
    "#### Carga la base de Datos \n"
   ]
  },
  {
   "cell_type": "code",
   "execution_count": 3,
   "metadata": {},
   "outputs": [
    {
     "name": "stdout",
     "output_type": "stream",
     "text": [
      "\n",
      "Hay un total de  105  datos en  20  columnas cargados correctamente\n"
     ]
    }
   ],
   "source": [
    "df= pd.read_excel('Relevamiento Alumnos 2018.xlsx')\n",
    "rows = len(df)\n",
    "columns = df.columns.size\n",
    "print('\\nHay un total de ',rows,' datos en ',columns,' columnas cargados correctamente')"
   ]
  },
  {
   "cell_type": "markdown",
   "metadata": {},
   "source": [
    "#### A la hora de mostrar la dataframe se puede utilizar alguno de los siguientes codigos\n",
    "<pre>\n",
    "df:         para toda la DataFrame\n",
    "dfhead(5):  para las primeras 5 filas\n",
    "df.loc:     para seleccionar que filas y columnas quiero mostrar </pre>\n",
    "##### (Por una cuestion de visualizacion se opto por cortar las columnas que se muestran)\n"
   ]
  },
  {
   "cell_type": "code",
   "execution_count": 4,
   "metadata": {},
   "outputs": [
    {
     "name": "stdout",
     "output_type": "stream",
     "text": [
      "\n",
      "Filtrado parcial para mostrar la DataFrame\n"
     ]
    },
    {
     "data": {
      "text/html": [
       "<div>\n",
       "<style scoped>\n",
       "    .dataframe tbody tr th:only-of-type {\n",
       "        vertical-align: middle;\n",
       "    }\n",
       "\n",
       "    .dataframe tbody tr th {\n",
       "        vertical-align: top;\n",
       "    }\n",
       "\n",
       "    .dataframe thead th {\n",
       "        text-align: right;\n",
       "    }\n",
       "</style>\n",
       "<table border=\"1\" class=\"dataframe\">\n",
       "  <thead>\n",
       "    <tr style=\"text-align: right;\">\n",
       "      <th></th>\n",
       "      <th>Comision</th>\n",
       "      <th>Edad</th>\n",
       "      <th>Genero</th>\n",
       "      <th>Promedio final del secundario</th>\n",
       "      <th>¿Trabajas actualmente?</th>\n",
       "    </tr>\n",
       "  </thead>\n",
       "  <tbody>\n",
       "    <tr>\n",
       "      <th>0</th>\n",
       "      <td>1-604 TN</td>\n",
       "      <td>26</td>\n",
       "      <td>Femenino</td>\n",
       "      <td>9.20</td>\n",
       "      <td>Si</td>\n",
       "    </tr>\n",
       "    <tr>\n",
       "      <th>1</th>\n",
       "      <td>1-604 TN</td>\n",
       "      <td>28</td>\n",
       "      <td>Femenino</td>\n",
       "      <td>9.20</td>\n",
       "      <td>Si</td>\n",
       "    </tr>\n",
       "    <tr>\n",
       "      <th>2</th>\n",
       "      <td>1-604 TN</td>\n",
       "      <td>39</td>\n",
       "      <td>Masculino</td>\n",
       "      <td>7.63</td>\n",
       "      <td>Si</td>\n",
       "    </tr>\n",
       "    <tr>\n",
       "      <th>3</th>\n",
       "      <td>1-601 TM</td>\n",
       "      <td>36</td>\n",
       "      <td>Masculino</td>\n",
       "      <td>8.41</td>\n",
       "      <td>No</td>\n",
       "    </tr>\n",
       "    <tr>\n",
       "      <th>4</th>\n",
       "      <td>1-604 TT</td>\n",
       "      <td>23</td>\n",
       "      <td>Femenino</td>\n",
       "      <td>9.53</td>\n",
       "      <td>Si</td>\n",
       "    </tr>\n",
       "    <tr>\n",
       "      <th>...</th>\n",
       "      <td>...</td>\n",
       "      <td>...</td>\n",
       "      <td>...</td>\n",
       "      <td>...</td>\n",
       "      <td>...</td>\n",
       "    </tr>\n",
       "    <tr>\n",
       "      <th>100</th>\n",
       "      <td>1-604 TT</td>\n",
       "      <td>21</td>\n",
       "      <td>Femenino</td>\n",
       "      <td>7.12</td>\n",
       "      <td>No</td>\n",
       "    </tr>\n",
       "    <tr>\n",
       "      <th>101</th>\n",
       "      <td>1-602 TM</td>\n",
       "      <td>18</td>\n",
       "      <td>Masculino</td>\n",
       "      <td>8.06</td>\n",
       "      <td>Si</td>\n",
       "    </tr>\n",
       "    <tr>\n",
       "      <th>102</th>\n",
       "      <td>1-602 TM</td>\n",
       "      <td>27</td>\n",
       "      <td>Masculino</td>\n",
       "      <td>8.98</td>\n",
       "      <td>No</td>\n",
       "    </tr>\n",
       "    <tr>\n",
       "      <th>103</th>\n",
       "      <td>1-604 TN</td>\n",
       "      <td>29</td>\n",
       "      <td>Masculino</td>\n",
       "      <td>9.87</td>\n",
       "      <td>Si</td>\n",
       "    </tr>\n",
       "    <tr>\n",
       "      <th>104</th>\n",
       "      <td>1-602 TM</td>\n",
       "      <td>27</td>\n",
       "      <td>Masculino</td>\n",
       "      <td>7.19</td>\n",
       "      <td>No</td>\n",
       "    </tr>\n",
       "  </tbody>\n",
       "</table>\n",
       "<p>105 rows × 5 columns</p>\n",
       "</div>"
      ],
      "text/plain": [
       "     Comision  Edad     Genero  Promedio final del secundario  \\\n",
       "0    1-604 TN    26   Femenino                           9.20   \n",
       "1    1-604 TN    28   Femenino                           9.20   \n",
       "2    1-604 TN    39  Masculino                           7.63   \n",
       "3    1-601 TM    36  Masculino                           8.41   \n",
       "4    1-604 TT    23   Femenino                           9.53   \n",
       "..        ...   ...        ...                            ...   \n",
       "100  1-604 TT    21   Femenino                           7.12   \n",
       "101  1-602 TM    18  Masculino                           8.06   \n",
       "102  1-602 TM    27  Masculino                           8.98   \n",
       "103  1-604 TN    29  Masculino                           9.87   \n",
       "104  1-602 TM    27  Masculino                           7.19   \n",
       "\n",
       "    ¿Trabajas actualmente?  \n",
       "0                       Si  \n",
       "1                       Si  \n",
       "2                       Si  \n",
       "3                       No  \n",
       "4                       Si  \n",
       "..                     ...  \n",
       "100                     No  \n",
       "101                     Si  \n",
       "102                     No  \n",
       "103                     Si  \n",
       "104                     No  \n",
       "\n",
       "[105 rows x 5 columns]"
      ]
     },
     "execution_count": 4,
     "metadata": {},
     "output_type": "execute_result"
    }
   ],
   "source": [
    "print(\"\\nFiltrado parcial para mostrar la DataFrame\")\n",
    "df[[\"Comision\",\"Edad\",\"Genero\",\"Promedio final del secundario\", \"¿Trabajas actualmente?\"]]\n"
   ]
  },
  {
   "cell_type": "markdown",
   "metadata": {},
   "source": [
    "#### Mediante el comando `df.describe()` recibo algunos datos relevantes sobre la DataFrame\n",
    "<pre>\n",
    "#mean:      Media\n",
    "#std:       Desviacion Estandar\n",
    "#min:       Mínimo\n",
    "#25,50,75   Percentil\n",
    "#max:       Máximo\n",
    "</pre>"
   ]
  },
  {
   "cell_type": "code",
   "execution_count": 5,
   "metadata": {},
   "outputs": [
    {
     "data": {
      "text/html": [
       "<div>\n",
       "<style scoped>\n",
       "    .dataframe tbody tr th:only-of-type {\n",
       "        vertical-align: middle;\n",
       "    }\n",
       "\n",
       "    .dataframe tbody tr th {\n",
       "        vertical-align: top;\n",
       "    }\n",
       "\n",
       "    .dataframe thead th {\n",
       "        text-align: right;\n",
       "    }\n",
       "</style>\n",
       "<table border=\"1\" class=\"dataframe\">\n",
       "  <thead>\n",
       "    <tr style=\"text-align: right;\">\n",
       "      <th></th>\n",
       "      <th>Edad</th>\n",
       "      <th>Altura</th>\n",
       "      <th>Promedio final del secundario</th>\n",
       "      <th>Año de egreso de la escuela secundaria</th>\n",
       "    </tr>\n",
       "  </thead>\n",
       "  <tbody>\n",
       "    <tr>\n",
       "      <th>count</th>\n",
       "      <td>105.000000</td>\n",
       "      <td>105.000000</td>\n",
       "      <td>105.000000</td>\n",
       "      <td>105.000000</td>\n",
       "    </tr>\n",
       "    <tr>\n",
       "      <th>mean</th>\n",
       "      <td>26.742857</td>\n",
       "      <td>1.727524</td>\n",
       "      <td>7.841714</td>\n",
       "      <td>2009.019048</td>\n",
       "    </tr>\n",
       "    <tr>\n",
       "      <th>std</th>\n",
       "      <td>6.836031</td>\n",
       "      <td>0.123076</td>\n",
       "      <td>0.978765</td>\n",
       "      <td>6.076406</td>\n",
       "    </tr>\n",
       "    <tr>\n",
       "      <th>min</th>\n",
       "      <td>18.000000</td>\n",
       "      <td>1.510000</td>\n",
       "      <td>6.050000</td>\n",
       "      <td>1996.000000</td>\n",
       "    </tr>\n",
       "    <tr>\n",
       "      <th>25%</th>\n",
       "      <td>22.000000</td>\n",
       "      <td>1.640000</td>\n",
       "      <td>7.190000</td>\n",
       "      <td>2005.000000</td>\n",
       "    </tr>\n",
       "    <tr>\n",
       "      <th>50%</th>\n",
       "      <td>25.000000</td>\n",
       "      <td>1.740000</td>\n",
       "      <td>7.600000</td>\n",
       "      <td>2011.000000</td>\n",
       "    </tr>\n",
       "    <tr>\n",
       "      <th>75%</th>\n",
       "      <td>30.000000</td>\n",
       "      <td>1.790000</td>\n",
       "      <td>8.570000</td>\n",
       "      <td>2014.000000</td>\n",
       "    </tr>\n",
       "    <tr>\n",
       "      <th>max</th>\n",
       "      <td>64.000000</td>\n",
       "      <td>1.980000</td>\n",
       "      <td>9.890000</td>\n",
       "      <td>2017.000000</td>\n",
       "    </tr>\n",
       "  </tbody>\n",
       "</table>\n",
       "</div>"
      ],
      "text/plain": [
       "             Edad      Altura  Promedio final del secundario  \\\n",
       "count  105.000000  105.000000                     105.000000   \n",
       "mean    26.742857    1.727524                       7.841714   \n",
       "std      6.836031    0.123076                       0.978765   \n",
       "min     18.000000    1.510000                       6.050000   \n",
       "25%     22.000000    1.640000                       7.190000   \n",
       "50%     25.000000    1.740000                       7.600000   \n",
       "75%     30.000000    1.790000                       8.570000   \n",
       "max     64.000000    1.980000                       9.890000   \n",
       "\n",
       "       Año de egreso de la escuela secundaria  \n",
       "count                              105.000000  \n",
       "mean                              2009.019048  \n",
       "std                                  6.076406  \n",
       "min                               1996.000000  \n",
       "25%                               2005.000000  \n",
       "50%                               2011.000000  \n",
       "75%                               2014.000000  \n",
       "max                               2017.000000  "
      ]
     },
     "execution_count": 5,
     "metadata": {},
     "output_type": "execute_result"
    }
   ],
   "source": [
    "df.describe()"
   ]
  },
  {
   "cell_type": "markdown",
   "metadata": {},
   "source": [
    "#### Filtrado de DataFrame\n",
    "\n",
    "La funcion `dropna` nos elimina los registros sin algun dato (una vez realizado en la DF actual, pasan a ser 92)</p>\n",
    "Otra opcion es usar la funcion `fillna` la cual nos reemplaza los datos vacios en el registro con un dato especificado (en este caso reemplazo el N/A de la columna por un \"no especificado\")\n"
   ]
  },
  {
   "cell_type": "code",
   "execution_count": 6,
   "metadata": {},
   "outputs": [
    {
     "name": "stdout",
     "output_type": "stream",
     "text": [
      "\n",
      "Hay un total de  105  datos en  20  columnas en el dataframe filtrado\n"
     ]
    }
   ],
   "source": [
    "df_filtrado = df.fillna({\"¿Qué te motivó a inscribiste en esta carrera?\": \"No especificado\"})\n",
    "rowsfil = len(df_filtrado)\n",
    "columnsfil = df_filtrado.columns.size\n",
    "print('\\nHay un total de ',rowsfil,' datos en ',columnsfil,' columnas en el dataframe filtrado')\n",
    "df = df_filtrado"
   ]
  },
  {
   "cell_type": "markdown",
   "metadata": {},
   "source": [
    "## ------------------------------------------------"
   ]
  },
  {
   "cell_type": "markdown",
   "metadata": {},
   "source": [
    "#### Se realizara un analisis de acuerdo al genero de los estudiantes"
   ]
  },
  {
   "cell_type": "code",
   "execution_count": 7,
   "metadata": {},
   "outputs": [
    {
     "data": {
      "text/plain": [
       "<AxesSubplot:>"
      ]
     },
     "execution_count": 7,
     "metadata": {},
     "output_type": "execute_result"
    },
    {
     "data": {
      "image/png": "[encoded data removed]",
      "text/plain": [
       "<Figure size 432x288 with 1 Axes>"
      ]
     },
     "metadata": {},
     "output_type": "display_data"
    }
   ],
   "source": [
    "serie = df.Genero.value_counts()\n",
    "cantM = serie[0]\n",
    "cantF = serie[1]\n",
    "serie\n",
    "serie.plot.bar()"
   ]
  },
  {
   "cell_type": "markdown",
   "metadata": {},
   "source": [
    "##### *Resumen*\n",
    "\n",
    "El grafico pone en evidencia una clara predominancia de estudiantes masculinos en el periodo estudiado, llegando casi a ser 8 de cada 10 alumnos ingresantes al Instituto en el 2018 varones."
   ]
  },
  {
   "cell_type": "markdown",
   "metadata": {},
   "source": [
    "## ------------------------------------------------"
   ]
  },
  {
   "cell_type": "markdown",
   "metadata": {},
   "source": [
    "#### Analisis de la edad de los estudiantes"
   ]
  },
  {
   "cell_type": "markdown",
   "metadata": {},
   "source": [
    "Primero se selecciona de la DF solamente las columnas de Genero y Edad luego filtrar las edades que corresponden a los estudiantes masculinos y guardarlos en una lista llamada `EdadMasc` y se hace lo mismo con la edad de las estudiantes femeninas para fuardarselo en una lista llamada `EdadFem`"
   ]
  },
  {
   "cell_type": "code",
   "execution_count": 43,
   "metadata": {},
   "outputs": [
    {
     "data": {
      "image/png": "[encoded data removed]",
      "text/plain": [
       "<Figure size 960x480 with 2 Axes>"
      ]
     },
     "metadata": {},
     "output_type": "display_data"
    }
   ],
   "source": [
    "dfGE = df[[\"Genero\",\"Edad\"]]\n",
    "dfMasc = dfGE[dfGE[\"Genero\"].str.contains(\"Masc\")]\n",
    "EdadMasc = dfMasc.Edad\n",
    "EdadMasc\n",
    "\n",
    "dfGE = df[[\"Genero\",\"Edad\"]]\n",
    "dfMasc = dfGE[dfGE[\"Genero\"].str.contains(\"Fem\")]\n",
    "EdadFem = dfMasc.Edad\n",
    "EdadFem\n",
    "\n",
    "figure(figsize=(12,6), dpi=80)\n",
    "\n",
    "plt.subplot(1, 2, 2)\n",
    "plt.ylim(0, 50)\n",
    "plt.xlabel(\"Edad\")\n",
    "plt.ylabel(\"Cantidad de Alumnos\")\n",
    "plt.title(\"Analisis de edad de los estudiantes\")\n",
    "plt.hist(EdadFem,bins=[15,20,30,40,50,60,70],rwidth=.95,label=\"Mujeres\",color = \"plum\")\n",
    "plt.legend()\n",
    "plt.grid()\n",
    "\n",
    "plt.subplot(1, 2, 1)\n",
    "plt.xlabel(\"Edad\")\n",
    "plt.ylabel(\"Cantidad de Alumnos\")\n",
    "plt.title(\"Analisis de edad de los estudiantes\")\n",
    "plt.hist(EdadMasc,bins=[15,20,30,40,50,60,70],rwidth=.95,label=\"Hombres\",color = \"cornflowerblue\")\n",
    "plt.legend()\n",
    "plt.grid()"
   ]
  },
  {
   "cell_type": "markdown",
   "metadata": {},
   "source": [
    "##### *Resumen*\n",
    "\n",
    "En base al histograma y en concordancia con lo que nos adelantaba el grafico anterior, se observa una gran predominancia de alumnos masculinos en todas las franjas etarias, excepto en la franja de 40 a 50 años donde se ve un acercamiento entre la cantidad de estudiantes de ambos sexos, para confirmar si esto es asi o no habria que acceder a datos de otros años a ver si se mantiene esa caracteristica. \n",
    "Por otro lado este grafico nos permite observar una gran predominancia de estudiantes de entre 20 y 30 años, seguidos por la franja etaria de entre los 30 y 40 años. "
   ]
  },
  {
   "cell_type": "markdown",
   "metadata": {},
   "source": [
    "## ------------------------------------------------"
   ]
  },
  {
   "cell_type": "markdown",
   "metadata": {},
   "source": [
    "#### Analisis de la altura de los estudiantes"
   ]
  },
  {
   "cell_type": "markdown",
   "metadata": {},
   "source": [
    "Primero se selecciona de la DF solamente las columnas de Genero y Altura para luego relizar el grafico de cajas y violin. La sub DataFrame en base a la cual se graficara se llamara `Altura`."
   ]
  },
  {
   "cell_type": "code",
   "execution_count": 9,
   "metadata": {},
   "outputs": [
    {
     "data": {
      "application/vnd.plotly.v1+json": {
       "config": {
        "plotlyServerURL": "https://plot.ly"
       },
       "data": [
        {
         "alignmentgroup": "True",
         "hovertemplate": "Altura=%{y}<extra></extra>",
         "legendgroup": "",
         "marker": {
          "color": "#636efa"
         },
         "name": "",
         "notched": false,
         "offsetgroup": "",
         "orientation": "v",
         "showlegend": false,
         "type": "box",
         "x0": " ",
         "xaxis": "x",
         "y": [
          1.71,
          1.7,
          1.51,
          1.51,
          1.53,
          1.78,
          1.53,
          1.53,
          1.53,
          1.77,
          1.55,
          1.77,
          1.64,
          1.77,
          1.77,
          1.55,
          1.55,
          1.55,
          1.55,
          1.56,
          1.65,
          1.56,
          1.54,
          1.57,
          1.57,
          1.57,
          1.59,
          1.61,
          1.58,
          1.62,
          1.64,
          1.62,
          1.64,
          1.65,
          1.66,
          1.68,
          1.68,
          1.69,
          1.65,
          1.63,
          1.7,
          1.7,
          1.84,
          1.7,
          1.72,
          1.72,
          1.73,
          1.74,
          1.74,
          1.74,
          1.74,
          1.65,
          1.74,
          1.75,
          1.75,
          1.75,
          1.75,
          1.76,
          1.76,
          1.76,
          1.81,
          1.76,
          1.76,
          1.77,
          1.77,
          1.78,
          1.71,
          1.78,
          1.75,
          1.56,
          1.78,
          1.78,
          1.78,
          1.79,
          1.65,
          1.79,
          1.79,
          1.82,
          1.83,
          1.83,
          1.83,
          1.84,
          1.64,
          1.85,
          1.86,
          1.86,
          1.87,
          1.88,
          1.88,
          1.7,
          1.89,
          1.89,
          1.9,
          1.78,
          1.91,
          1.91,
          1.91,
          1.92,
          1.93,
          1.95,
          1.54,
          1.96,
          1.96,
          1.96,
          1.98
         ],
         "y0": " ",
         "yaxis": "y"
        }
       ],
       "layout": {
        "boxmode": "group",
        "height": 400,
        "legend": {
         "tracegroupgap": 0
        },
        "margin": {
         "t": 60
        },
        "template": {
         "data": {
          "bar": [
           {
            "error_x": {
             "color": "#2a3f5f"
            },
            "error_y": {
             "color": "#2a3f5f"
            },
            "marker": {
             "line": {
              "color": "#E5ECF6",
              "width": 0.5
             },
             "pattern": {
              "fillmode": "overlay",
              "size": 10,
              "solidity": 0.2
             }
            },
            "type": "bar"
           }
          ],
          "barpolar": [
           {
            "marker": {
             "line": {
              "color": "#E5ECF6",
              "width": 0.5
             },
             "pattern": {
              "fillmode": "overlay",
              "size": 10,
              "solidity": 0.2
             }
            },
            "type": "barpolar"
           }
          ],
          "carpet": [
           {
            "aaxis": {
             "endlinecolor": "#2a3f5f",
             "gridcolor": "white",
             "linecolor": "white",
             "minorgridcolor": "white",
             "startlinecolor": "#2a3f5f"
            },
            "baxis": {
             "endlinecolor": "#2a3f5f",
             "gridcolor": "white",
             "linecolor": "white",
             "minorgridcolor": "white",
             "startlinecolor": "#2a3f5f"
            },
            "type": "carpet"
           }
          ],
          "choropleth": [
           {
            "colorbar": {
             "outlinewidth": 0,
             "ticks": ""
            },
            "type": "choropleth"
           }
          ],
          "contour": [
           {
            "colorbar": {
             "outlinewidth": 0,
             "ticks": ""
            },
            "colorscale": [
             [
              0,
              "#0d0887"
             ],
             [
              0.1111111111111111,
              "#46039f"
             ],
             [
              0.2222222222222222,
              "#7201a8"
             ],
             [
              0.3333333333333333,
              "#9c179e"
             ],
             [
              0.4444444444444444,
              "#bd3786"
             ],
             [
              0.5555555555555556,
              "#d8576b"
             ],
             [
              0.6666666666666666,
              "#ed7953"
             ],
             [
              0.7777777777777778,
              "#fb9f3a"
             ],
             [
              0.8888888888888888,
              "#fdca26"
             ],
             [
              1,
              "#f0f921"
             ]
            ],
            "type": "contour"
           }
          ],
          "contourcarpet": [
           {
            "colorbar": {
             "outlinewidth": 0,
             "ticks": ""
            },
            "type": "contourcarpet"
           }
          ],
          "heatmap": [
           {
            "colorbar": {
             "outlinewidth": 0,
             "ticks": ""
            },
            "colorscale": [
             [
              0,
              "#0d0887"
             ],
             [
              0.1111111111111111,
              "#46039f"
             ],
             [
              0.2222222222222222,
              "#7201a8"
             ],
             [
              0.3333333333333333,
              "#9c179e"
             ],
             [
              0.4444444444444444,
              "#bd3786"
             ],
             [
              0.5555555555555556,
              "#d8576b"
             ],
             [
              0.6666666666666666,
              "#ed7953"
             ],
             [
              0.7777777777777778,
              "#fb9f3a"
             ],
             [
              0.8888888888888888,
              "#fdca26"
             ],
             [
              1,
              "#f0f921"
             ]
            ],
            "type": "heatmap"
           }
          ],
          "heatmapgl": [
           {
            "colorbar": {
             "outlinewidth": 0,
             "ticks": ""
            },
            "colorscale": [
             [
              0,
              "#0d0887"
             ],
             [
              0.1111111111111111,
              "#46039f"
             ],
             [
              0.2222222222222222,
              "#7201a8"
             ],
             [
              0.3333333333333333,
              "#9c179e"
             ],
             [
              0.4444444444444444,
              "#bd3786"
             ],
             [
              0.5555555555555556,
              "#d8576b"
             ],
             [
              0.6666666666666666,
              "#ed7953"
             ],
             [
              0.7777777777777778,
              "#fb9f3a"
             ],
             [
              0.8888888888888888,
              "#fdca26"
             ],
             [
              1,
              "#f0f921"
             ]
            ],
            "type": "heatmapgl"
           }
          ],
          "histogram": [
           {
            "marker": {
             "pattern": {
              "fillmode": "overlay",
              "size": 10,
              "solidity": 0.2
             }
            },
            "type": "histogram"
           }
          ],
          "histogram2d": [
           {
            "colorbar": {
             "outlinewidth": 0,
             "ticks": ""
            },
            "colorscale": [
             [
              0,
              "#0d0887"
             ],
             [
              0.1111111111111111,
              "#46039f"
             ],
             [
              0.2222222222222222,
              "#7201a8"
             ],
             [
              0.3333333333333333,
              "#9c179e"
             ],
             [
              0.4444444444444444,
              "#bd3786"
             ],
             [
              0.5555555555555556,
              "#d8576b"
             ],
             [
              0.6666666666666666,
              "#ed7953"
             ],
             [
              0.7777777777777778,
              "#fb9f3a"
             ],
             [
              0.8888888888888888,
              "#fdca26"
             ],
             [
              1,
              "#f0f921"
             ]
            ],
            "type": "histogram2d"
           }
          ],
          "histogram2dcontour": [
           {
            "colorbar": {
             "outlinewidth": 0,
             "ticks": ""
            },
            "colorscale": [
             [
              0,
              "#0d0887"
             ],
             [
              0.1111111111111111,
              "#46039f"
             ],
             [
              0.2222222222222222,
              "#7201a8"
             ],
             [
              0.3333333333333333,
              "#9c179e"
             ],
             [
              0.4444444444444444,
              "#bd3786"
             ],
             [
              0.5555555555555556,
              "#d8576b"
             ],
             [
              0.6666666666666666,
              "#ed7953"
             ],
             [
              0.7777777777777778,
              "#fb9f3a"
             ],
             [
              0.8888888888888888,
              "#fdca26"
             ],
             [
              1,
              "#f0f921"
             ]
            ],
            "type": "histogram2dcontour"
           }
          ],
          "mesh3d": [
           {
            "colorbar": {
             "outlinewidth": 0,
             "ticks": ""
            },
            "type": "mesh3d"
           }
          ],
          "parcoords": [
           {
            "line": {
             "colorbar": {
              "outlinewidth": 0,
              "ticks": ""
             }
            },
            "type": "parcoords"
           }
          ],
          "pie": [
           {
            "automargin": true,
            "type": "pie"
           }
          ],
          "scatter": [
           {
            "marker": {
             "colorbar": {
              "outlinewidth": 0,
              "ticks": ""
             }
            },
            "type": "scatter"
           }
          ],
          "scatter3d": [
           {
            "line": {
             "colorbar": {
              "outlinewidth": 0,
              "ticks": ""
             }
            },
            "marker": {
             "colorbar": {
              "outlinewidth": 0,
              "ticks": ""
             }
            },
            "type": "scatter3d"
           }
          ],
          "scattercarpet": [
           {
            "marker": {
             "colorbar": {
              "outlinewidth": 0,
              "ticks": ""
             }
            },
            "type": "scattercarpet"
           }
          ],
          "scattergeo": [
           {
            "marker": {
             "colorbar": {
              "outlinewidth": 0,
              "ticks": ""
             }
            },
            "type": "scattergeo"
           }
          ],
          "scattergl": [
           {
            "marker": {
             "colorbar": {
              "outlinewidth": 0,
              "ticks": ""
             }
            },
            "type": "scattergl"
           }
          ],
          "scattermapbox": [
           {
            "marker": {
             "colorbar": {
              "outlinewidth": 0,
              "ticks": ""
             }
            },
            "type": "scattermapbox"
           }
          ],
          "scatterpolar": [
           {
            "marker": {
             "colorbar": {
              "outlinewidth": 0,
              "ticks": ""
             }
            },
            "type": "scatterpolar"
           }
          ],
          "scatterpolargl": [
           {
            "marker": {
             "colorbar": {
              "outlinewidth": 0,
              "ticks": ""
             }
            },
            "type": "scatterpolargl"
           }
          ],
          "scatterternary": [
           {
            "marker": {
             "colorbar": {
              "outlinewidth": 0,
              "ticks": ""
             }
            },
            "type": "scatterternary"
           }
          ],
          "surface": [
           {
            "colorbar": {
             "outlinewidth": 0,
             "ticks": ""
            },
            "colorscale": [
             [
              0,
              "#0d0887"
             ],
             [
              0.1111111111111111,
              "#46039f"
             ],
             [
              0.2222222222222222,
              "#7201a8"
             ],
             [
              0.3333333333333333,
              "#9c179e"
             ],
             [
              0.4444444444444444,
              "#bd3786"
             ],
             [
              0.5555555555555556,
              "#d8576b"
             ],
             [
              0.6666666666666666,
              "#ed7953"
             ],
             [
              0.7777777777777778,
              "#fb9f3a"
             ],
             [
              0.8888888888888888,
              "#fdca26"
             ],
             [
              1,
              "#f0f921"
             ]
            ],
            "type": "surface"
           }
          ],
          "table": [
           {
            "cells": {
             "fill": {
              "color": "#EBF0F8"
             },
             "line": {
              "color": "white"
             }
            },
            "header": {
             "fill": {
              "color": "#C8D4E3"
             },
             "line": {
              "color": "white"
             }
            },
            "type": "table"
           }
          ]
         },
         "layout": {
          "annotationdefaults": {
           "arrowcolor": "#2a3f5f",
           "arrowhead": 0,
           "arrowwidth": 1
          },
          "autotypenumbers": "strict",
          "coloraxis": {
           "colorbar": {
            "outlinewidth": 0,
            "ticks": ""
           }
          },
          "colorscale": {
           "diverging": [
            [
             0,
             "#8e0152"
            ],
            [
             0.1,
             "#c51b7d"
            ],
            [
             0.2,
             "#de77ae"
            ],
            [
             0.3,
             "#f1b6da"
            ],
            [
             0.4,
             "#fde0ef"
            ],
            [
             0.5,
             "#f7f7f7"
            ],
            [
             0.6,
             "#e6f5d0"
            ],
            [
             0.7,
             "#b8e186"
            ],
            [
             0.8,
             "#7fbc41"
            ],
            [
             0.9,
             "#4d9221"
            ],
            [
             1,
             "#276419"
            ]
           ],
           "sequential": [
            [
             0,
             "#0d0887"
            ],
            [
             0.1111111111111111,
             "#46039f"
            ],
            [
             0.2222222222222222,
             "#7201a8"
            ],
            [
             0.3333333333333333,
             "#9c179e"
            ],
            [
             0.4444444444444444,
             "#bd3786"
            ],
            [
             0.5555555555555556,
             "#d8576b"
            ],
            [
             0.6666666666666666,
             "#ed7953"
            ],
            [
             0.7777777777777778,
             "#fb9f3a"
            ],
            [
             0.8888888888888888,
             "#fdca26"
            ],
            [
             1,
             "#f0f921"
            ]
           ],
           "sequentialminus": [
            [
             0,
             "#0d0887"
            ],
            [
             0.1111111111111111,
             "#46039f"
            ],
            [
             0.2222222222222222,
             "#7201a8"
            ],
            [
             0.3333333333333333,
             "#9c179e"
            ],
            [
             0.4444444444444444,
             "#bd3786"
            ],
            [
             0.5555555555555556,
             "#d8576b"
            ],
            [
             0.6666666666666666,
             "#ed7953"
            ],
            [
             0.7777777777777778,
             "#fb9f3a"
            ],
            [
             0.8888888888888888,
             "#fdca26"
            ],
            [
             1,
             "#f0f921"
            ]
           ]
          },
          "colorway": [
           "#636efa",
           "#EF553B",
           "#00cc96",
           "#ab63fa",
           "#FFA15A",
           "#19d3f3",
           "#FF6692",
           "#B6E880",
           "#FF97FF",
           "#FECB52"
          ],
          "font": {
           "color": "#2a3f5f"
          },
          "geo": {
           "bgcolor": "white",
           "lakecolor": "white",
           "landcolor": "#E5ECF6",
           "showlakes": true,
           "showland": true,
           "subunitcolor": "white"
          },
          "hoverlabel": {
           "align": "left"
          },
          "hovermode": "closest",
          "mapbox": {
           "style": "light"
          },
          "paper_bgcolor": "white",
          "plot_bgcolor": "#E5ECF6",
          "polar": {
           "angularaxis": {
            "gridcolor": "white",
            "linecolor": "white",
            "ticks": ""
           },
           "bgcolor": "#E5ECF6",
           "radialaxis": {
            "gridcolor": "white",
            "linecolor": "white",
            "ticks": ""
           }
          },
          "scene": {
           "xaxis": {
            "backgroundcolor": "#E5ECF6",
            "gridcolor": "white",
            "gridwidth": 2,
            "linecolor": "white",
            "showbackground": true,
            "ticks": "",
            "zerolinecolor": "white"
           },
           "yaxis": {
            "backgroundcolor": "#E5ECF6",
            "gridcolor": "white",
            "gridwidth": 2,
            "linecolor": "white",
            "showbackground": true,
            "ticks": "",
            "zerolinecolor": "white"
           },
           "zaxis": {
            "backgroundcolor": "#E5ECF6",
            "gridcolor": "white",
            "gridwidth": 2,
            "linecolor": "white",
            "showbackground": true,
            "ticks": "",
            "zerolinecolor": "white"
           }
          },
          "shapedefaults": {
           "line": {
            "color": "#2a3f5f"
           }
          },
          "ternary": {
           "aaxis": {
            "gridcolor": "white",
            "linecolor": "white",
            "ticks": ""
           },
           "baxis": {
            "gridcolor": "white",
            "linecolor": "white",
            "ticks": ""
           },
           "bgcolor": "#E5ECF6",
           "caxis": {
            "gridcolor": "white",
            "linecolor": "white",
            "ticks": ""
           }
          },
          "title": {
           "x": 0.05
          },
          "xaxis": {
           "automargin": true,
           "gridcolor": "white",
           "linecolor": "white",
           "ticks": "",
           "title": {
            "standoff": 15
           },
           "zerolinecolor": "white",
           "zerolinewidth": 2
          },
          "yaxis": {
           "automargin": true,
           "gridcolor": "white",
           "linecolor": "white",
           "ticks": "",
           "title": {
            "standoff": 15
           },
           "zerolinecolor": "white",
           "zerolinewidth": 2
          }
         }
        },
        "width": 600,
        "xaxis": {
         "anchor": "y",
         "domain": [
          0,
          1
         ]
        },
        "yaxis": {
         "anchor": "x",
         "domain": [
          0,
          1
         ],
         "title": {
          "text": "Altura"
         }
        }
       }
      }
     },
     "metadata": {},
     "output_type": "display_data"
    }
   ],
   "source": [
    "altura = df[[\"Genero\",\"Altura\"]]\n",
    "fig2 = px.box(altura, y=\"Altura\",width=600, height=400)\n",
    "fig2.show()"
   ]
  },
  {
   "cell_type": "markdown",
   "metadata": {},
   "source": [
    "##### *Resumen*\n",
    "\n",
    "Este grafico nos muestra que la media de altura de los estudiantes es de 1,74 Mts. y que el 50% de ellos se encuentra entre los 1.64 Mts y los 1.79 Mts. Pero esta observacion no tiene en cuenta el genero de los estudiantes y podria existir una diferencia entre las alturas medias de los estudiantes en base al sexo. "
   ]
  },
  {
   "cell_type": "code",
   "execution_count": 10,
   "metadata": {},
   "outputs": [
    {
     "data": {
      "application/vnd.plotly.v1+json": {
       "config": {
        "plotlyServerURL": "https://plot.ly"
       },
       "data": [
        {
         "alignmentgroup": "True",
         "hovertemplate": "Genero=%{x}<br>Altura=%{y}<extra></extra>",
         "legendgroup": "",
         "marker": {
          "color": "#636efa"
         },
         "name": "",
         "notched": false,
         "offsetgroup": "",
         "orientation": "v",
         "showlegend": false,
         "type": "box",
         "x": [
          "Femenino",
          "Femenino",
          "Masculino",
          "Masculino",
          "Femenino",
          "Femenino",
          "Masculino",
          "Masculino",
          "Masculino",
          "Masculino",
          "Femenino",
          "Masculino",
          "Femenino",
          "Masculino",
          "Masculino",
          "Masculino",
          "Masculino",
          "Masculino",
          "Masculino",
          "Masculino",
          "Femenino",
          "Masculino",
          "Femenino",
          "Masculino",
          "Masculino",
          "Masculino",
          "Masculino",
          "Masculino",
          "Femenino",
          "Masculino",
          "Femenino",
          "Masculino",
          "Masculino",
          "Masculino",
          "Masculino",
          "Masculino",
          "Masculino",
          "Masculino",
          "Femenino",
          "Femenino",
          "Masculino",
          "Masculino",
          "Femenino",
          "Masculino",
          "Masculino",
          "Masculino",
          "Masculino",
          "Masculino",
          "Masculino",
          "Masculino",
          "Masculino",
          "Femenino",
          "Masculino",
          "Masculino",
          "Masculino",
          "Masculino",
          "Masculino",
          "Masculino",
          "Masculino",
          "Masculino",
          "Femenino",
          "Masculino",
          "Masculino",
          "Masculino",
          "Masculino",
          "Masculino",
          "Femenino",
          "Masculino",
          "Femenino",
          "Femenino",
          "Masculino",
          "Masculino",
          "Masculino",
          "Masculino",
          "Femenino",
          "Masculino",
          "Masculino",
          "Masculino",
          "Masculino",
          "Masculino",
          "Masculino",
          "Masculino",
          "Femenino",
          "Masculino",
          "Masculino",
          "Masculino",
          "Masculino",
          "Masculino",
          "Masculino",
          "Femenino",
          "Masculino",
          "Masculino",
          "Masculino",
          "Femenino",
          "Masculino",
          "Masculino",
          "Masculino",
          "Masculino",
          "Masculino",
          "Masculino",
          "Femenino",
          "Masculino",
          "Masculino",
          "Masculino",
          "Masculino"
         ],
         "x0": " ",
         "xaxis": "x",
         "y": [
          1.71,
          1.7,
          1.51,
          1.51,
          1.53,
          1.78,
          1.53,
          1.53,
          1.53,
          1.77,
          1.55,
          1.77,
          1.64,
          1.77,
          1.77,
          1.55,
          1.55,
          1.55,
          1.55,
          1.56,
          1.65,
          1.56,
          1.54,
          1.57,
          1.57,
          1.57,
          1.59,
          1.61,
          1.58,
          1.62,
          1.64,
          1.62,
          1.64,
          1.65,
          1.66,
          1.68,
          1.68,
          1.69,
          1.65,
          1.63,
          1.7,
          1.7,
          1.84,
          1.7,
          1.72,
          1.72,
          1.73,
          1.74,
          1.74,
          1.74,
          1.74,
          1.65,
          1.74,
          1.75,
          1.75,
          1.75,
          1.75,
          1.76,
          1.76,
          1.76,
          1.81,
          1.76,
          1.76,
          1.77,
          1.77,
          1.78,
          1.71,
          1.78,
          1.75,
          1.56,
          1.78,
          1.78,
          1.78,
          1.79,
          1.65,
          1.79,
          1.79,
          1.82,
          1.83,
          1.83,
          1.83,
          1.84,
          1.64,
          1.85,
          1.86,
          1.86,
          1.87,
          1.88,
          1.88,
          1.7,
          1.89,
          1.89,
          1.9,
          1.78,
          1.91,
          1.91,
          1.91,
          1.92,
          1.93,
          1.95,
          1.54,
          1.96,
          1.96,
          1.96,
          1.98
         ],
         "y0": " ",
         "yaxis": "y"
        }
       ],
       "layout": {
        "boxmode": "group",
        "height": 400,
        "legend": {
         "tracegroupgap": 0
        },
        "margin": {
         "t": 60
        },
        "template": {
         "data": {
          "bar": [
           {
            "error_x": {
             "color": "#2a3f5f"
            },
            "error_y": {
             "color": "#2a3f5f"
            },
            "marker": {
             "line": {
              "color": "#E5ECF6",
              "width": 0.5
             },
             "pattern": {
              "fillmode": "overlay",
              "size": 10,
              "solidity": 0.2
             }
            },
            "type": "bar"
           }
          ],
          "barpolar": [
           {
            "marker": {
             "line": {
              "color": "#E5ECF6",
              "width": 0.5
             },
             "pattern": {
              "fillmode": "overlay",
              "size": 10,
              "solidity": 0.2
             }
            },
            "type": "barpolar"
           }
          ],
          "carpet": [
           {
            "aaxis": {
             "endlinecolor": "#2a3f5f",
             "gridcolor": "white",
             "linecolor": "white",
             "minorgridcolor": "white",
             "startlinecolor": "#2a3f5f"
            },
            "baxis": {
             "endlinecolor": "#2a3f5f",
             "gridcolor": "white",
             "linecolor": "white",
             "minorgridcolor": "white",
             "startlinecolor": "#2a3f5f"
            },
            "type": "carpet"
           }
          ],
          "choropleth": [
           {
            "colorbar": {
             "outlinewidth": 0,
             "ticks": ""
            },
            "type": "choropleth"
           }
          ],
          "contour": [
           {
            "colorbar": {
             "outlinewidth": 0,
             "ticks": ""
            },
            "colorscale": [
             [
              0,
              "#0d0887"
             ],
             [
              0.1111111111111111,
              "#46039f"
             ],
             [
              0.2222222222222222,
              "#7201a8"
             ],
             [
              0.3333333333333333,
              "#9c179e"
             ],
             [
              0.4444444444444444,
              "#bd3786"
             ],
             [
              0.5555555555555556,
              "#d8576b"
             ],
             [
              0.6666666666666666,
              "#ed7953"
             ],
             [
              0.7777777777777778,
              "#fb9f3a"
             ],
             [
              0.8888888888888888,
              "#fdca26"
             ],
             [
              1,
              "#f0f921"
             ]
            ],
            "type": "contour"
           }
          ],
          "contourcarpet": [
           {
            "colorbar": {
             "outlinewidth": 0,
             "ticks": ""
            },
            "type": "contourcarpet"
           }
          ],
          "heatmap": [
           {
            "colorbar": {
             "outlinewidth": 0,
             "ticks": ""
            },
            "colorscale": [
             [
              0,
              "#0d0887"
             ],
             [
              0.1111111111111111,
              "#46039f"
             ],
             [
              0.2222222222222222,
              "#7201a8"
             ],
             [
              0.3333333333333333,
              "#9c179e"
             ],
             [
              0.4444444444444444,
              "#bd3786"
             ],
             [
              0.5555555555555556,
              "#d8576b"
             ],
             [
              0.6666666666666666,
              "#ed7953"
             ],
             [
              0.7777777777777778,
              "#fb9f3a"
             ],
             [
              0.8888888888888888,
              "#fdca26"
             ],
             [
              1,
              "#f0f921"
             ]
            ],
            "type": "heatmap"
           }
          ],
          "heatmapgl": [
           {
            "colorbar": {
             "outlinewidth": 0,
             "ticks": ""
            },
            "colorscale": [
             [
              0,
              "#0d0887"
             ],
             [
              0.1111111111111111,
              "#46039f"
             ],
             [
              0.2222222222222222,
              "#7201a8"
             ],
             [
              0.3333333333333333,
              "#9c179e"
             ],
             [
              0.4444444444444444,
              "#bd3786"
             ],
             [
              0.5555555555555556,
              "#d8576b"
             ],
             [
              0.6666666666666666,
              "#ed7953"
             ],
             [
              0.7777777777777778,
              "#fb9f3a"
             ],
             [
              0.8888888888888888,
              "#fdca26"
             ],
             [
              1,
              "#f0f921"
             ]
            ],
            "type": "heatmapgl"
           }
          ],
          "histogram": [
           {
            "marker": {
             "pattern": {
              "fillmode": "overlay",
              "size": 10,
              "solidity": 0.2
             }
            },
            "type": "histogram"
           }
          ],
          "histogram2d": [
           {
            "colorbar": {
             "outlinewidth": 0,
             "ticks": ""
            },
            "colorscale": [
             [
              0,
              "#0d0887"
             ],
             [
              0.1111111111111111,
              "#46039f"
             ],
             [
              0.2222222222222222,
              "#7201a8"
             ],
             [
              0.3333333333333333,
              "#9c179e"
             ],
             [
              0.4444444444444444,
              "#bd3786"
             ],
             [
              0.5555555555555556,
              "#d8576b"
             ],
             [
              0.6666666666666666,
              "#ed7953"
             ],
             [
              0.7777777777777778,
              "#fb9f3a"
             ],
             [
              0.8888888888888888,
              "#fdca26"
             ],
             [
              1,
              "#f0f921"
             ]
            ],
            "type": "histogram2d"
           }
          ],
          "histogram2dcontour": [
           {
            "colorbar": {
             "outlinewidth": 0,
             "ticks": ""
            },
            "colorscale": [
             [
              0,
              "#0d0887"
             ],
             [
              0.1111111111111111,
              "#46039f"
             ],
             [
              0.2222222222222222,
              "#7201a8"
             ],
             [
              0.3333333333333333,
              "#9c179e"
             ],
             [
              0.4444444444444444,
              "#bd3786"
             ],
             [
              0.5555555555555556,
              "#d8576b"
             ],
             [
              0.6666666666666666,
              "#ed7953"
             ],
             [
              0.7777777777777778,
              "#fb9f3a"
             ],
             [
              0.8888888888888888,
              "#fdca26"
             ],
             [
              1,
              "#f0f921"
             ]
            ],
            "type": "histogram2dcontour"
           }
          ],
          "mesh3d": [
           {
            "colorbar": {
             "outlinewidth": 0,
             "ticks": ""
            },
            "type": "mesh3d"
           }
          ],
          "parcoords": [
           {
            "line": {
             "colorbar": {
              "outlinewidth": 0,
              "ticks": ""
             }
            },
            "type": "parcoords"
           }
          ],
          "pie": [
           {
            "automargin": true,
            "type": "pie"
           }
          ],
          "scatter": [
           {
            "marker": {
             "colorbar": {
              "outlinewidth": 0,
              "ticks": ""
             }
            },
            "type": "scatter"
           }
          ],
          "scatter3d": [
           {
            "line": {
             "colorbar": {
              "outlinewidth": 0,
              "ticks": ""
             }
            },
            "marker": {
             "colorbar": {
              "outlinewidth": 0,
              "ticks": ""
             }
            },
            "type": "scatter3d"
           }
          ],
          "scattercarpet": [
           {
            "marker": {
             "colorbar": {
              "outlinewidth": 0,
              "ticks": ""
             }
            },
            "type": "scattercarpet"
           }
          ],
          "scattergeo": [
           {
            "marker": {
             "colorbar": {
              "outlinewidth": 0,
              "ticks": ""
             }
            },
            "type": "scattergeo"
           }
          ],
          "scattergl": [
           {
            "marker": {
             "colorbar": {
              "outlinewidth": 0,
              "ticks": ""
             }
            },
            "type": "scattergl"
           }
          ],
          "scattermapbox": [
           {
            "marker": {
             "colorbar": {
              "outlinewidth": 0,
              "ticks": ""
             }
            },
            "type": "scattermapbox"
           }
          ],
          "scatterpolar": [
           {
            "marker": {
             "colorbar": {
              "outlinewidth": 0,
              "ticks": ""
             }
            },
            "type": "scatterpolar"
           }
          ],
          "scatterpolargl": [
           {
            "marker": {
             "colorbar": {
              "outlinewidth": 0,
              "ticks": ""
             }
            },
            "type": "scatterpolargl"
           }
          ],
          "scatterternary": [
           {
            "marker": {
             "colorbar": {
              "outlinewidth": 0,
              "ticks": ""
             }
            },
            "type": "scatterternary"
           }
          ],
          "surface": [
           {
            "colorbar": {
             "outlinewidth": 0,
             "ticks": ""
            },
            "colorscale": [
             [
              0,
              "#0d0887"
             ],
             [
              0.1111111111111111,
              "#46039f"
             ],
             [
              0.2222222222222222,
              "#7201a8"
             ],
             [
              0.3333333333333333,
              "#9c179e"
             ],
             [
              0.4444444444444444,
              "#bd3786"
             ],
             [
              0.5555555555555556,
              "#d8576b"
             ],
             [
              0.6666666666666666,
              "#ed7953"
             ],
             [
              0.7777777777777778,
              "#fb9f3a"
             ],
             [
              0.8888888888888888,
              "#fdca26"
             ],
             [
              1,
              "#f0f921"
             ]
            ],
            "type": "surface"
           }
          ],
          "table": [
           {
            "cells": {
             "fill": {
              "color": "#EBF0F8"
             },
             "line": {
              "color": "white"
             }
            },
            "header": {
             "fill": {
              "color": "#C8D4E3"
             },
             "line": {
              "color": "white"
             }
            },
            "type": "table"
           }
          ]
         },
         "layout": {
          "annotationdefaults": {
           "arrowcolor": "#2a3f5f",
           "arrowhead": 0,
           "arrowwidth": 1
          },
          "autotypenumbers": "strict",
          "coloraxis": {
           "colorbar": {
            "outlinewidth": 0,
            "ticks": ""
           }
          },
          "colorscale": {
           "diverging": [
            [
             0,
             "#8e0152"
            ],
            [
             0.1,
             "#c51b7d"
            ],
            [
             0.2,
             "#de77ae"
            ],
            [
             0.3,
             "#f1b6da"
            ],
            [
             0.4,
             "#fde0ef"
            ],
            [
             0.5,
             "#f7f7f7"
            ],
            [
             0.6,
             "#e6f5d0"
            ],
            [
             0.7,
             "#b8e186"
            ],
            [
             0.8,
             "#7fbc41"
            ],
            [
             0.9,
             "#4d9221"
            ],
            [
             1,
             "#276419"
            ]
           ],
           "sequential": [
            [
             0,
             "#0d0887"
            ],
            [
             0.1111111111111111,
             "#46039f"
            ],
            [
             0.2222222222222222,
             "#7201a8"
            ],
            [
             0.3333333333333333,
             "#9c179e"
            ],
            [
             0.4444444444444444,
             "#bd3786"
            ],
            [
             0.5555555555555556,
             "#d8576b"
            ],
            [
             0.6666666666666666,
             "#ed7953"
            ],
            [
             0.7777777777777778,
             "#fb9f3a"
            ],
            [
             0.8888888888888888,
             "#fdca26"
            ],
            [
             1,
             "#f0f921"
            ]
           ],
           "sequentialminus": [
            [
             0,
             "#0d0887"
            ],
            [
             0.1111111111111111,
             "#46039f"
            ],
            [
             0.2222222222222222,
             "#7201a8"
            ],
            [
             0.3333333333333333,
             "#9c179e"
            ],
            [
             0.4444444444444444,
             "#bd3786"
            ],
            [
             0.5555555555555556,
             "#d8576b"
            ],
            [
             0.6666666666666666,
             "#ed7953"
            ],
            [
             0.7777777777777778,
             "#fb9f3a"
            ],
            [
             0.8888888888888888,
             "#fdca26"
            ],
            [
             1,
             "#f0f921"
            ]
           ]
          },
          "colorway": [
           "#636efa",
           "#EF553B",
           "#00cc96",
           "#ab63fa",
           "#FFA15A",
           "#19d3f3",
           "#FF6692",
           "#B6E880",
           "#FF97FF",
           "#FECB52"
          ],
          "font": {
           "color": "#2a3f5f"
          },
          "geo": {
           "bgcolor": "white",
           "lakecolor": "white",
           "landcolor": "#E5ECF6",
           "showlakes": true,
           "showland": true,
           "subunitcolor": "white"
          },
          "hoverlabel": {
           "align": "left"
          },
          "hovermode": "closest",
          "mapbox": {
           "style": "light"
          },
          "paper_bgcolor": "white",
          "plot_bgcolor": "#E5ECF6",
          "polar": {
           "angularaxis": {
            "gridcolor": "white",
            "linecolor": "white",
            "ticks": ""
           },
           "bgcolor": "#E5ECF6",
           "radialaxis": {
            "gridcolor": "white",
            "linecolor": "white",
            "ticks": ""
           }
          },
          "scene": {
           "xaxis": {
            "backgroundcolor": "#E5ECF6",
            "gridcolor": "white",
            "gridwidth": 2,
            "linecolor": "white",
            "showbackground": true,
            "ticks": "",
            "zerolinecolor": "white"
           },
           "yaxis": {
            "backgroundcolor": "#E5ECF6",
            "gridcolor": "white",
            "gridwidth": 2,
            "linecolor": "white",
            "showbackground": true,
            "ticks": "",
            "zerolinecolor": "white"
           },
           "zaxis": {
            "backgroundcolor": "#E5ECF6",
            "gridcolor": "white",
            "gridwidth": 2,
            "linecolor": "white",
            "showbackground": true,
            "ticks": "",
            "zerolinecolor": "white"
           }
          },
          "shapedefaults": {
           "line": {
            "color": "#2a3f5f"
           }
          },
          "ternary": {
           "aaxis": {
            "gridcolor": "white",
            "linecolor": "white",
            "ticks": ""
           },
           "baxis": {
            "gridcolor": "white",
            "linecolor": "white",
            "ticks": ""
           },
           "bgcolor": "#E5ECF6",
           "caxis": {
            "gridcolor": "white",
            "linecolor": "white",
            "ticks": ""
           }
          },
          "title": {
           "x": 0.05
          },
          "xaxis": {
           "automargin": true,
           "gridcolor": "white",
           "linecolor": "white",
           "ticks": "",
           "title": {
            "standoff": 15
           },
           "zerolinecolor": "white",
           "zerolinewidth": 2
          },
          "yaxis": {
           "automargin": true,
           "gridcolor": "white",
           "linecolor": "white",
           "ticks": "",
           "title": {
            "standoff": 15
           },
           "zerolinecolor": "white",
           "zerolinewidth": 2
          }
         }
        },
        "width": 600,
        "xaxis": {
         "anchor": "y",
         "domain": [
          0,
          1
         ],
         "title": {
          "text": "Genero"
         }
        },
        "yaxis": {
         "anchor": "x",
         "domain": [
          0,
          1
         ],
         "title": {
          "text": "Altura"
         }
        }
       }
      }
     },
     "metadata": {},
     "output_type": "display_data"
    },
    {
     "data": {
      "image/png": "[encoded data removed]",
      "text/plain": [
       "<Figure size 432x288 with 1 Axes>"
      ]
     },
     "metadata": {},
     "output_type": "display_data"
    }
   ],
   "source": [
    "altura = df[[\"Genero\",\"Altura\"]]\n",
    "#fig = plt.figure(figsize=(5,3))\n",
    "fig = px.box(altura, x=\"Genero\", y=\"Altura\",width=600, height=400)\n",
    "fig.show()\n",
    "ax=sns.violinplot(data=altura, x=\"Genero\", y=\"Altura\", inner=\"box\")"
   ]
  },
  {
   "cell_type": "markdown",
   "metadata": {},
   "source": [
    "##### *Resumen*\n",
    "\n",
    "Estos graficos nos permiten observar que en general los estudiantes hombres son mas altos que las estudiantes mujeres, estando su media en 1,76 Mts. mientras que la media de las mujeres es de 1.65 Mts. Por otro lado se observa que la altura de las mujeres esta mas concentrada ya que la caja esta mas concetrada (dentro de la caja se encuentra el 50% mas frecuente), esto se convalida con lo que se observa en el grafico de violin ya que se observa que tiene una distribucion aproximadamente normal donde la mayor concentracion de valores se encuentra cercana a la media. </p>\n",
    "En el caso de los hombres, las alturas se encuentran un poco mas dispersas con respecto a su media y tambien se observa un rango mas amplio ya que las alturas van desde los 1.51 a 1.98 (tiene un rango de .47) mientras que la de las mujeres esta mas concentrada ya que va de 1.53 a 1.84 (tiene un rango de .31).</p>\n",
    "El grafico de box sin discriminar sexo pone en evidencia que la mayor cantidad de hombres hace que tanto la media total de alturas como la distribucion de los estudiantes en su totalidad se acerque mas a la de los hombres que a la de las mujeres. \n"
   ]
  },
  {
   "cell_type": "markdown",
   "metadata": {},
   "source": [
    "## ------------------------------------------------"
   ]
  },
  {
   "cell_type": "markdown",
   "metadata": {},
   "source": [
    "#### Analisis sobre las comisiones que eligen los estudiantes segun su ocupacion"
   ]
  },
  {
   "cell_type": "markdown",
   "metadata": {},
   "source": [
    "Primero se selecciona de la DF solamente las columnas de Comision y Ocupacion para luego relizar los graficos que nos permitan extraer información."
   ]
  },
  {
   "cell_type": "code",
   "execution_count": 11,
   "metadata": {},
   "outputs": [
    {
     "data": {
      "text/plain": [
       "Text(0.5, 1.0, 'Cantidad de alumnos por comision')"
      ]
     },
     "execution_count": 11,
     "metadata": {},
     "output_type": "execute_result"
    },
    {
     "data": {
      "image/png": "[encoded data removed]",
      "text/plain": [
       "<Figure size 432x288 with 1 Axes>"
      ]
     },
     "metadata": {},
     "output_type": "display_data"
    }
   ],
   "source": [
    "dfGH = df[[\"Comision\",\"¿Trabajas actualmente?\"]]\n",
    "Comision = dfGH.Comision\n",
    "sns.countplot(x=Comision)\n",
    "plt.title(\"Cantidad de alumnos por comision\")"
   ]
  },
  {
   "cell_type": "markdown",
   "metadata": {},
   "source": [
    "##### *Resumen*\n",
    "\n",
    "De este grafico se extrae que la mayoria de los alumnos eligen el turno noche a la hora de inscribirse, seguido por el turno mañana, el turno tarde es el que contiene la menor cantidad de inscriptos, esto podria deberse a que los estudiantes trabajan y el turno tarde les interrumpe la jornada laboral.+"
   ]
  },
  {
   "cell_type": "code",
   "execution_count": 12,
   "metadata": {},
   "outputs": [
    {
     "data": {
      "image/png": "[encoded data removed]",
      "text/plain": [
       "<Figure size 432x288 with 1 Axes>"
      ]
     },
     "metadata": {},
     "output_type": "display_data"
    },
    {
     "data": {
      "image/png": "[encoded data removed]",
      "text/plain": [
       "<Figure size 432x288 with 1 Axes>"
      ]
     },
     "metadata": {},
     "output_type": "display_data"
    }
   ],
   "source": [
    "Trabaja = dfGH[\"¿Trabajas actualmente?\"]\n",
    "si= Trabaja.value_counts()[0]/105\n",
    "no= Trabaja.value_counts()[1]/105\n",
    "sizes = [si,no]\n",
    "explode = (0.1, 0)  \n",
    "plt.pie(sizes, explode=explode, labels=[\"SI\",\"NO\"], autopct='%2.1f%%',\n",
    "        shadow=True, startangle=90)\n",
    "plt.title(\"Porcentaje de alumnos que trabajan\")\n",
    "plt.legend()\n",
    "plt.show()\n",
    "\n",
    "dfGH = df[[\"Comision\",\"¿Trabajas actualmente?\"]]\n",
    "trabajadores = dfGH[dfGH[\"¿Trabajas actualmente?\"].str.contains(\"Si\")]\n",
    "TN = trabajadores.value_counts()[0]/Trabaja.value_counts()[0]\n",
    "TM2 = trabajadores.value_counts()[1]/Trabaja.value_counts()[0]\n",
    "TT = trabajadores.value_counts()[2]/Trabaja.value_counts()[0]\n",
    "TM1 = trabajadores.value_counts()[3]/Trabaja.value_counts()[0]\n",
    "sizes = [TM1, TM2, TT, TN]\n",
    "plt.pie(sizes, labels=[\"1-601 TM\",\"1-602 TM\",\"1-604 TT\",\"1-604 TN\"], \n",
    "        autopct='%2.1f%%',\n",
    "        shadow=True, \n",
    "        startangle=90, \n",
    "        normalize=True)\n",
    "plt.title(\"Comisiones que eligen los alumnos que trabajan\")\n",
    "plt.legend()\n",
    "plt.show()"
   ]
  },
  {
   "cell_type": "markdown",
   "metadata": {},
   "source": [
    "##### *Resumen*\n",
    "\n",
    "Observamos que la mayoria de los alumnos trabajan y que de la totalidad de alumnos que trabajan, el 68% elige el turno noche. Esto podria ser un factor importante por el cual el turno tarde tiene tan pocos inscriptos, debido a que la mayoria de los estudiantes trabaja y el horario del turno tarde se superpone con la jornada laboral.</p>\n",
    "Estos graficos nos permiten observar que la mayoria de los alumnos que se inscribieron en el periodo estudiado trabajan (casi el 70%) y ademas la mayoria de los alumnos que trabaja eligio el turno noche para cursar (esto se condice con lo que se percibe en el instituto)."
   ]
  },
  {
   "cell_type": "code",
   "execution_count": 13,
   "metadata": {},
   "outputs": [
    {
     "data": {
      "image/png": "[encoded data removed]",
      "text/plain": [
       "<Figure size 432x288 with 1 Axes>"
      ]
     },
     "metadata": {},
     "output_type": "display_data"
    }
   ],
   "source": [
    "dfGH = df[[\"Comision\",\"¿Trabajas actualmente?\"]]\n",
    "trabajadores = dfGH[dfGH[\"¿Trabajas actualmente?\"].str.contains(\"No\")]\n",
    "TN = trabajadores.value_counts()[0]/Trabaja.value_counts()[1]\n",
    "TM2 = trabajadores.value_counts()[1]/Trabaja.value_counts()[1]\n",
    "TT = trabajadores.value_counts()[2]/Trabaja.value_counts()[1]\n",
    "TM1 = trabajadores.value_counts()[3]/Trabaja.value_counts()[1]\n",
    "sizes = [TM1, TM2, TT, TN]\n",
    "plt.pie(sizes, labels=[\"1-601 TM\",\"1-602 TM\",\"1-604 TT\",\"1-604 TN\"], \n",
    "        autopct='%2.1f%%',\n",
    "        shadow=True, \n",
    "        startangle=90, \n",
    "        normalize=True)\n",
    "plt.title(\"Comisiones que eligen los alumnos que no trabajan\")\n",
    "plt.legend()\n",
    "plt.show()"
   ]
  },
  {
   "cell_type": "markdown",
   "metadata": {},
   "source": [
    "##### *Resumen*\n",
    "\n",
    "A la hora de estudiar el comportamiento de los alumnos que no trabajan se observa un equilibrio mayor entre las distintas comisiones aunque sigue predominando la comision del turno noche, las comisiones `1-601 TM` y `1-602 TM` corresponden al turno mañana, por ende hay un equilibrio entre la cantidad de alumnos que no trabajan que eligen el turno mañana y los que eligen el turno noche. </p>\n",
    "Lo que si se observa en ambos estudiantes es que muy pocos eligen el turno tarde a la hora de inscribirse. \n"
   ]
  },
  {
   "cell_type": "code",
   "execution_count": 14,
   "metadata": {},
   "outputs": [
    {
     "data": {
      "image/png": "[encoded data removed]",
      "text/plain": [
       "<Figure size 432x288 with 1 Axes>"
      ]
     },
     "metadata": {},
     "output_type": "display_data"
    }
   ],
   "source": [
    "rango1 = df[df[\"Genero\"].str.contains(\"Masc\")]\n",
    "tablaM = rango1[\"¿Trabajas actualmente?\"]\n",
    "M = np.array(tablaM).size\n",
    "\n",
    "rango2 = df[df[\"Genero\"].str.contains(\"Fem\")]\n",
    "rango2 = rango2[\"¿Trabajas actualmente?\"].str.contains(\"S\")\n",
    "\n",
    "tabla = df.groupby([\"Genero\", \"¿Trabajas actualmente?\"]).size()\n",
    "tabla2 = [tabla[0]/23, tabla[1]/23, tabla[2]/(105-23), tabla[3]/(105-23)]\n",
    "datos = pd.DataFrame({\"Porcentaje de Alumnos\": tabla2, \"Respuesta\": [\"No\", \"Sí\", \"No\", \"Sí\"], \"Género\": [\"Mujeres\", \"Mujeres\", \"Hombres\", \"Hombres\"]})\n",
    "\n",
    "s = sns.barplot(x = \"Género\", y = \"Porcentaje de Alumnos\", data = datos, hue = \"Respuesta\", palette = \"Pastel1\")"
   ]
  },
  {
   "cell_type": "markdown",
   "metadata": {},
   "source": [
    "##### *Resumen*\n",
    "\n",
    "El porcentaje de estudiantes hombres y mujeres que trabajan es similar"
   ]
  },
  {
   "cell_type": "markdown",
   "metadata": {},
   "source": [
    "## ------------------------------------------------"
   ]
  },
  {
   "cell_type": "markdown",
   "metadata": {},
   "source": [
    "#### Analisis de Notas"
   ]
  },
  {
   "cell_type": "code",
   "execution_count": 15,
   "metadata": {},
   "outputs": [
    {
     "data": {
      "text/plain": [
       "<seaborn.axisgrid.FacetGrid at 0x230b04ab850>"
      ]
     },
     "execution_count": 15,
     "metadata": {},
     "output_type": "execute_result"
    },
    {
     "data": {
      "image/png": "[encoded data removed]",
      "text/plain": [
       "<Figure size 360x360 with 1 Axes>"
      ]
     },
     "metadata": {},
     "output_type": "display_data"
    }
   ],
   "source": [
    "sns.set_theme()\n",
    "sns.displot(df[\"Promedio final del secundario\"], kind=\"kde\")"
   ]
  },
  {
   "cell_type": "markdown",
   "metadata": {},
   "source": [
    "##### *Resumen*\n",
    "\n",
    "El grafico nos muestra que la mayor densidad de promedio de notas del secundario de los alumnos ingresantes se encuentra entre 7 y 8"
   ]
  },
  {
   "cell_type": "code",
   "execution_count": 39,
   "metadata": {},
   "outputs": [
    {
     "data": {
      "text/plain": [
       "<matplotlib.legend.Legend at 0x230b0705400>"
      ]
     },
     "execution_count": 39,
     "metadata": {},
     "output_type": "execute_result"
    },
    {
     "data": {
      "image/png": "[encoded data removed]",
      "text/plain": [
       "<Figure size 960x480 with 2 Axes>"
      ]
     },
     "metadata": {},
     "output_type": "display_data"
    }
   ],
   "source": [
    "dfGE = df[[\"Genero\",\"Promedio final del secundario\"]]\n",
    "dfMasc = dfGE[dfGE[\"Genero\"].str.contains(\"Masc\")]\n",
    "PromMasc = dfMasc[\"Promedio final del secundario\"]\n",
    "dfGE = df[[\"Genero\",\"Promedio final del secundario\"]]\n",
    "dfFem = dfGE[dfGE[\"Genero\"].str.contains(\"Fem\")]\n",
    "PromFem = dfFem[\"Promedio final del secundario\"]\n",
    "\n",
    "figure(figsize=(12,6), dpi=80)\n",
    "\n",
    "plt.subplot(1, 2, 2)\n",
    "plt.xlabel(\"Promedio de notas\")\n",
    "plt.ylabel(\"Cantidad de Alumnos\")\n",
    "plt.title(\"Analisis de Promedio de notas de las Mujeres\")\n",
    "plt.hist(PromFem,bins=[6,6.5,7,7.5,8,8.5,9,9.5,10],rwidth=.95,color = \"plum\",label=\"Mujeres\")\n",
    "plt.legend()\n",
    "plt.subplot(1, 2, 1)\n",
    "plt.xlabel(\"Promedio de notas\")\n",
    "plt.ylabel(\"Cantidad de Alumnos\")\n",
    "plt.title(\"Analisis de Promedio de notas de los Hombres\")\n",
    "plt.hist(PromMasc,bins=[6,6.5,7,7.5,8,8.5,9,9.5,10],rwidth=.95,color = \"cornflowerblue\",label=\"Hombres\")\n",
    "plt.legend()\n"
   ]
  },
  {
   "cell_type": "markdown",
   "metadata": {},
   "source": [
    "##### *Resumen*\n",
    "\n",
    "A traves del histograma se observa que la mayoria de los alumnos tuvieron un promedio de entre 7 y 8 en el secundario, sin embargo al desglosar entre los hombres y mujeres, se observa que las mujeres tienen un promedio mas alto que los hombres, sin embargo por ser poblacion mayoritaria los hombres eso no se percibe en el grafico de distribucion, el cual se asemeja mas al parcial masculino\n"
   ]
  },
  {
   "cell_type": "code",
   "execution_count": 17,
   "metadata": {},
   "outputs": [
    {
     "data": {
      "image/png": "[encoded data removed]",
      "text/plain": [
       "<Figure size 432x288 with 1 Axes>"
      ]
     },
     "metadata": {},
     "output_type": "display_data"
    }
   ],
   "source": [
    "rango1 = df[df[\"Genero\"].str.contains(\"Masc\")]\n",
    "tablaM = rango1[\"Promedio final del secundario\"]\n",
    "M = np.array(tablaM)\n",
    "\n",
    "rango2 = df[df[\"Genero\"].str.contains(\"Fem\")]\n",
    "tablaF = rango2[\"Promedio final del secundario\"]\n",
    "F = np.array(tablaF)\n",
    "\n",
    "#plt.xlim(6, 10)\n",
    "sns.kdeplot(M, shade = True, color = \"royalblue\", label = \"Hombres\")\n",
    "sns.kdeplot(F, shade = True, color = \"crimson\", label = \"Mujeres\")\n",
    "plt.title(\"Promedio de notas del secundario segun genero\")\n",
    "plt.xlabel(\"Promedio de notas del secundario\")\n",
    "plt.ylabel(\"Porcentual de alumnos\")\n",
    "plt.legend(title = \"Promedio:\") # agrega título a las referencias\n",
    "plt.show()"
   ]
  },
  {
   "cell_type": "markdown",
   "metadata": {},
   "source": [
    "##### *Resumen*\n",
    "\n",
    "El grafico de distribucion nos muestra que mas alla de las cantidades de alumnos, las mujeres son mejores estudiantes que los hombres, al menos durante el periodo del secundario.\n"
   ]
  },
  {
   "cell_type": "markdown",
   "id": "6648189b",
   "metadata": {},
   "source": [
    "## Bibliografía:\n",
    "\n",
    "- https://www.youtube.com/watch?v=6Vr9ZUntCyE&ab_channel=LeonardoKuffo\n",
    "\n",
    "- https://www.youtube.com/watch?v=8ASjvOIyyl8&list=RDCMUCMqY16CUHOQvKepPW-f9M8Q&index=10&ab_channel=LeonardoKuffo\n",
    "\n",
    "- https://www.youtube.com/watch?v=zAGn--QNmg8\n",
    "\n",
    "- https://www.youtube.com/watch?v=otfLOEmqH5I\n",
    "\n",
    "- https://pandas.pydata.org/pandas-docs/stable/reference/api/pandas.DataFrame.groupby.html\n",
    "\n",
    "- https://www.kite.com/python/answers/how-to-print-a-pandas-groupby-object-in-python\n",
    "\n",
    "- https://seaborn.pydata.org/generated/seaborn.displot.html#seaborn.displot\n",
    "\n",
    "- https://plotly.com/python/setting-graph-size/\n",
    "\n",
    "- https://www.w3schools.com/python/\n",
    "\n",
    "- https://seaborn.pydata.org/tutorial/color_palettes.html\n",
    "\n",
    "- https://seaborn.pydata.org/generated/seaborn.kdeplot.html"
   ]
  }
 ],
 "metadata": {
  "kernelspec": {
   "display_name": "Python 3",
   "language": "python",
   "name": "python3"
  },
  "language_info": {
   "codemirror_mode": {
    "name": "ipython",
    "version": 3
   },
   "file_extension": ".py",
   "mimetype": "text/x-python",
   "name": "python",
   "nbconvert_exporter": "python",
   "pygments_lexer": "ipython3",
   "version": "3.9.7"
  }
 },
 "nbformat": 4,
 "nbformat_minor": 4
}
